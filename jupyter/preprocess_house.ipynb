{
 "cells": [
  {
   "cell_type": "code",
   "execution_count": 1,
   "id": "8abe069d-9ccc-40cd-9941-177f8deac719",
   "metadata": {},
   "outputs": [],
   "source": [
    "import numpy as np\n",
    "import pandas as pd\n",
    "import pickle as pkl\n",
    "from tqdm import tqdm"
   ]
  },
  {
   "cell_type": "code",
   "execution_count": 2,
   "id": "3ec1cf99-c094-4bb5-b940-65662126fc71",
   "metadata": {},
   "outputs": [],
   "source": [
    "df = pd.read_csv('../data/household_power_consumption.txt', sep=';', low_memory=False)\n",
    "\n",
    "df = df.replace('?', 0)\n",
    "df = df.replace(np.nan, 0)\n",
    "\n",
    "df['Date'] = pd.to_datetime(df['Date'], format=\"%d/%m/%Y\")\n",
    "df[[\n",
    "    'Sub_metering_1',\n",
    "    'Sub_metering_2',\n",
    "    'Sub_metering_3'\n",
    "]] = df[[\n",
    "    'Sub_metering_1',\n",
    "    'Sub_metering_2',\n",
    "    'Sub_metering_3'\n",
    "]].astype(float)"
   ]
  },
  {
   "cell_type": "code",
   "execution_count": 3,
   "id": "d488c111-3f6a-461c-9b1f-36213d296087",
   "metadata": {},
   "outputs": [
    {
     "data": {
      "text/html": [
       "<div>\n",
       "<style scoped>\n",
       "    .dataframe tbody tr th:only-of-type {\n",
       "        vertical-align: middle;\n",
       "    }\n",
       "\n",
       "    .dataframe tbody tr th {\n",
       "        vertical-align: top;\n",
       "    }\n",
       "\n",
       "    .dataframe thead th {\n",
       "        text-align: right;\n",
       "    }\n",
       "</style>\n",
       "<table border=\"1\" class=\"dataframe\">\n",
       "  <thead>\n",
       "    <tr style=\"text-align: right;\">\n",
       "      <th></th>\n",
       "      <th>Date</th>\n",
       "      <th>Time</th>\n",
       "      <th>Global_active_power</th>\n",
       "      <th>Global_reactive_power</th>\n",
       "      <th>Voltage</th>\n",
       "      <th>Global_intensity</th>\n",
       "      <th>Sub_metering_1</th>\n",
       "      <th>Sub_metering_2</th>\n",
       "      <th>Sub_metering_3</th>\n",
       "    </tr>\n",
       "  </thead>\n",
       "  <tbody>\n",
       "    <tr>\n",
       "      <th>0</th>\n",
       "      <td>2006-12-16</td>\n",
       "      <td>17:24:00</td>\n",
       "      <td>4.216</td>\n",
       "      <td>0.418</td>\n",
       "      <td>234.840</td>\n",
       "      <td>18.400</td>\n",
       "      <td>0.0</td>\n",
       "      <td>1.0</td>\n",
       "      <td>17.0</td>\n",
       "    </tr>\n",
       "    <tr>\n",
       "      <th>1</th>\n",
       "      <td>2006-12-16</td>\n",
       "      <td>17:25:00</td>\n",
       "      <td>5.360</td>\n",
       "      <td>0.436</td>\n",
       "      <td>233.630</td>\n",
       "      <td>23.000</td>\n",
       "      <td>0.0</td>\n",
       "      <td>1.0</td>\n",
       "      <td>16.0</td>\n",
       "    </tr>\n",
       "    <tr>\n",
       "      <th>2</th>\n",
       "      <td>2006-12-16</td>\n",
       "      <td>17:26:00</td>\n",
       "      <td>5.374</td>\n",
       "      <td>0.498</td>\n",
       "      <td>233.290</td>\n",
       "      <td>23.000</td>\n",
       "      <td>0.0</td>\n",
       "      <td>2.0</td>\n",
       "      <td>17.0</td>\n",
       "    </tr>\n",
       "    <tr>\n",
       "      <th>3</th>\n",
       "      <td>2006-12-16</td>\n",
       "      <td>17:27:00</td>\n",
       "      <td>5.388</td>\n",
       "      <td>0.502</td>\n",
       "      <td>233.740</td>\n",
       "      <td>23.000</td>\n",
       "      <td>0.0</td>\n",
       "      <td>1.0</td>\n",
       "      <td>17.0</td>\n",
       "    </tr>\n",
       "    <tr>\n",
       "      <th>4</th>\n",
       "      <td>2006-12-16</td>\n",
       "      <td>17:28:00</td>\n",
       "      <td>3.666</td>\n",
       "      <td>0.528</td>\n",
       "      <td>235.680</td>\n",
       "      <td>15.800</td>\n",
       "      <td>0.0</td>\n",
       "      <td>1.0</td>\n",
       "      <td>17.0</td>\n",
       "    </tr>\n",
       "  </tbody>\n",
       "</table>\n",
       "</div>"
      ],
      "text/plain": [
       "        Date      Time Global_active_power Global_reactive_power  Voltage  \\\n",
       "0 2006-12-16  17:24:00               4.216                 0.418  234.840   \n",
       "1 2006-12-16  17:25:00               5.360                 0.436  233.630   \n",
       "2 2006-12-16  17:26:00               5.374                 0.498  233.290   \n",
       "3 2006-12-16  17:27:00               5.388                 0.502  233.740   \n",
       "4 2006-12-16  17:28:00               3.666                 0.528  235.680   \n",
       "\n",
       "  Global_intensity  Sub_metering_1  Sub_metering_2  Sub_metering_3  \n",
       "0           18.400             0.0             1.0            17.0  \n",
       "1           23.000             0.0             1.0            16.0  \n",
       "2           23.000             0.0             2.0            17.0  \n",
       "3           23.000             0.0             1.0            17.0  \n",
       "4           15.800             0.0             1.0            17.0  "
      ]
     },
     "execution_count": 3,
     "metadata": {},
     "output_type": "execute_result"
    }
   ],
   "source": [
    "df.head()"
   ]
  },
  {
   "cell_type": "code",
   "execution_count": 4,
   "id": "424b66a5-6e0e-4e25-a17f-60190854d88f",
   "metadata": {},
   "outputs": [
    {
     "name": "stdout",
     "output_type": "stream",
     "text": [
      "<class 'pandas.core.frame.DataFrame'>\n",
      "RangeIndex: 2075259 entries, 0 to 2075258\n",
      "Data columns (total 9 columns):\n",
      " #   Column                 Dtype         \n",
      "---  ------                 -----         \n",
      " 0   Date                   datetime64[ns]\n",
      " 1   Time                   object        \n",
      " 2   Global_active_power    object        \n",
      " 3   Global_reactive_power  object        \n",
      " 4   Voltage                object        \n",
      " 5   Global_intensity       object        \n",
      " 6   Sub_metering_1         float64       \n",
      " 7   Sub_metering_2         float64       \n",
      " 8   Sub_metering_3         float64       \n",
      "dtypes: datetime64[ns](1), float64(3), object(5)\n",
      "memory usage: 142.5+ MB\n"
     ]
    }
   ],
   "source": [
    "df.info()"
   ]
  },
  {
   "cell_type": "code",
   "execution_count": 5,
   "id": "69bcd25c-8740-4b9e-8c11-1e3d8dcdf681",
   "metadata": {},
   "outputs": [],
   "source": [
    "df_sub = df[[\n",
    "    'Sub_metering_1',\n",
    "    'Sub_metering_2',\n",
    "    'Sub_metering_3'\n",
    "]]\n",
    "\n",
    "df_date = df['Date']\n",
    "df_time = df['Time']"
   ]
  },
  {
   "cell_type": "code",
   "execution_count": 6,
   "id": "ebfeeb10-0332-4805-a79c-4e44f840e673",
   "metadata": {},
   "outputs": [
    {
     "name": "stdout",
     "output_type": "stream",
     "text": [
      "1442\n",
      "1440\n"
     ]
    },
    {
     "name": "stderr",
     "output_type": "stream",
     "text": [
      "C:\\Users\\KentoUrano\\Anaconda3\\lib\\site-packages\\ipykernel_launcher.py:10: SettingWithCopyWarning: \n",
      "A value is trying to be set on a copy of a slice from a DataFrame.\n",
      "Try using .loc[row_indexer,col_indexer] = value instead\n",
      "\n",
      "See the caveats in the documentation: https://pandas.pydata.org/pandas-docs/stable/user_guide/indexing.html#returning-a-view-versus-a-copy\n",
      "  # Remove the CWD from sys.path while we load stuff.\n",
      "C:\\Users\\KentoUrano\\Anaconda3\\lib\\site-packages\\ipykernel_launcher.py:15: SettingWithCopyWarning: \n",
      "A value is trying to be set on a copy of a slice from a DataFrame.\n",
      "Try using .loc[row_indexer,col_indexer] = value instead\n",
      "\n",
      "See the caveats in the documentation: https://pandas.pydata.org/pandas-docs/stable/user_guide/indexing.html#returning-a-view-versus-a-copy\n",
      "  from ipykernel import kernelapp as app\n"
     ]
    }
   ],
   "source": [
    "times = sorted(list(set(df_time)))\n",
    "dates = sorted(list(set(df_date)))\n",
    "\n",
    "print(len(dates))\n",
    "print(len(times))\n",
    "\n",
    "def sort_time(x):\n",
    "    return times.index(x)\n",
    "\n",
    "df_sub['time(sort)'] = df_time.apply(sort_time)\n",
    "\n",
    "def sort_date(x):\n",
    "    return dates.index(x)\n",
    "\n",
    "df_sub['date(sort)'] = df_date.apply(sort_date)"
   ]
  },
  {
   "cell_type": "code",
   "execution_count": 7,
   "id": "b84aab32-0d8e-4dfb-954f-3f046cc53e7a",
   "metadata": {},
   "outputs": [],
   "source": [
    "def aggregate_time(sep):\n",
    "    \n",
    "    XX = np.zeros([int(len(times) / sep), len(dates), 3])\n",
    "    \n",
    "    for i in tqdm(range(int(len(df_sub)))):\n",
    "        rec = df_sub.iloc[i]\n",
    "        XX[\n",
    "            int(rec['time(sort)'] // sep),\n",
    "            int(rec['date(sort)']),\n",
    "            :\n",
    "        ] += rec[['Sub_metering_1', 'Sub_metering_2', 'Sub_metering_3']]\n",
    "\n",
    "    return XX"
   ]
  },
  {
   "cell_type": "code",
   "execution_count": 8,
   "id": "dbb5dc14-5ba9-4d43-ac0f-fb7ee6198b63",
   "metadata": {},
   "outputs": [
    {
     "name": "stderr",
     "output_type": "stream",
     "text": [
      "100%|███████████████████████████████████████████████████████████████████████| 2075259/2075259 [37:53<00:00, 912.60it/s]\n"
     ]
    }
   ],
   "source": [
    "XX_pre = aggregate_time(sep=5)"
   ]
  },
  {
   "cell_type": "code",
   "execution_count": 9,
   "id": "c4046e75-0c65-4766-95fe-046cf24e2425",
   "metadata": {},
   "outputs": [],
   "source": [
    "XX = []\n",
    "for t in range(96):\n",
    "    XX.append(\n",
    "        np.r_[XX_pre[3 * t], XX_pre[3 * t + 1], XX_pre[3 * t + 2]]\n",
    "    )\n",
    "XX = np.array(XX)\n",
    "XX = np.log(1 + XX)"
   ]
  },
  {
   "cell_type": "code",
   "execution_count": 10,
   "id": "016732e5-89ad-4bf7-991c-72ddaf73e06f",
   "metadata": {},
   "outputs": [],
   "source": [
    "with open('../data/XX_house.pkl', 'wb') as f:\n",
    "    pkl.dump(XX, f)"
   ]
  }
 ],
 "metadata": {
  "kernelspec": {
   "display_name": "Python 3 (ipykernel)",
   "language": "python",
   "name": "python3"
  },
  "language_info": {
   "codemirror_mode": {
    "name": "ipython",
    "version": 3
   },
   "file_extension": ".py",
   "mimetype": "text/x-python",
   "name": "python",
   "nbconvert_exporter": "python",
   "pygments_lexer": "ipython3",
   "version": "3.7.13"
  }
 },
 "nbformat": 4,
 "nbformat_minor": 5
}
